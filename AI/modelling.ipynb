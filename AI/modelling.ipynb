{
 "cells": [
  {
   "cell_type": "code",
   "execution_count": 3,
   "metadata": {
    "id": "F8RkRYr2PXhS"
   },
   "outputs": [],
   "source": [
    "import pathlib\n",
    "import tensorflow as tf\n",
    "from tensorflow import keras\n",
    "from tensorflow.keras import Sequential,layers\n",
    "import matplotlib.pyplot as plt"
   ]
  },
  {
   "cell_type": "code",
   "execution_count": null,
   "metadata": {
    "id": "_KLQA9wyO-fl"
   },
   "outputs": [],
   "source": [
    "\n",
    "data_dir = pathlib.Path(\"/content/Data\")\n"
   ]
  },
  {
   "cell_type": "code",
   "execution_count": 6,
   "metadata": {
    "id": "jnGVe6tXP99w"
   },
   "outputs": [],
   "source": [
    "# image_count"
   ]
  },
  {
   "cell_type": "code",
   "execution_count": 7,
   "metadata": {
    "id": "03tIqGEyQGkV"
   },
   "outputs": [],
   "source": [
    "img_width = 256\n",
    "img_height = 256\n",
    "batch_size =32"
   ]
  },
  {
   "cell_type": "code",
   "execution_count": 8,
   "metadata": {
    "colab": {
     "base_uri": "https://localhost:8080/"
    },
    "id": "EeVzUDFxQaOD",
    "outputId": "01ce003d-8098-467c-84c5-cfe611baf796"
   },
   "outputs": [
    {
     "name": "stdout",
     "output_type": "stream",
     "text": [
      "Found 175 files belonging to 7 classes.\n",
      "Using 123 files for training.\n",
      "Found 175 files belonging to 7 classes.\n",
      "Using 52 files for validation.\n"
     ]
    }
   ],
   "source": [
    "train_ds = tf.keras.utils.image_dataset_from_directory(\n",
    "    data_dir,\n",
    "  validation_split=0.3,\n",
    "  subset=\"training\",\n",
    "  seed=123,\n",
    "  image_size=(img_height, img_width),\n",
    "  batch_size=batch_size\n",
    ")\n",
    "valid_ds = tf.keras.utils.image_dataset_from_directory(\n",
    "    data_dir,\n",
    "    validation_split=0.3,\n",
    "  subset=\"validation\",\n",
    "  seed=123,\n",
    "  image_size=(img_height, img_width),\n",
    "  batch_size=batch_size\n",
    ")\n",
    "# train_ds2 = tf.keras.utils.image_dataset_from_directory(\n",
    "#     data_dir2,\n",
    "#   validation_split=0.3,\n",
    "#   subset=\"training\",\n",
    "#   seed=123,\n",
    "#   image_size=(img_height, img_width),\n",
    "#   batch_size=batch_size\n",
    "# )\n",
    "# valid_ds2 = tf.keras.utils.image_dataset_from_directory(\n",
    "#     data_dir2,\n",
    "#     validation_split=0.3,\n",
    "#   subset=\"validation\",\n",
    "#   seed=123,\n",
    "#   image_size=(img_height, img_width),\n",
    "#   batch_size=batch_size\n",
    "# )"
   ]
  },
  {
   "cell_type": "code",
   "execution_count": 9,
   "metadata": {
    "id": "Kex6MWN3RMMX"
   },
   "outputs": [],
   "source": [
    "class_names = train_ds.class_names\n",
    "# class_names2 = train_ds2.class_names\n"
   ]
  },
  {
   "cell_type": "code",
   "execution_count": 10,
   "metadata": {
    "colab": {
     "base_uri": "https://localhost:8080/"
    },
    "id": "GLPFcqembXB9",
    "outputId": "81b2a14d-e8cf-4eaa-aed4-af388e93323a"
   },
   "outputs": [
    {
     "data": {
      "text/plain": [
       "['HDPE', 'LDPE', 'OTHER', 'PET', 'PP', 'PS', 'PVC']"
      ]
     },
     "execution_count": 10,
     "metadata": {},
     "output_type": "execute_result"
    }
   ],
   "source": [
    "class_names"
   ]
  },
  {
   "cell_type": "code",
   "execution_count": 11,
   "metadata": {
    "id": "SgAhRh_1RXju"
   },
   "outputs": [],
   "source": [
    "num_classes = len(class_names)\n"
   ]
  },
  {
   "cell_type": "code",
   "execution_count": 12,
   "metadata": {
    "id": "Y09jmycISt1H"
   },
   "outputs": [],
   "source": [
    "# AUTOTUNE = tf.data.AUTOTUNE\n",
    "# train_ds = train_ds.cache().shuffle(1000).prefetch(buffer_size=AUTOTUNE)\n",
    "data_augmentation = keras.Sequential(\n",
    "  [\n",
    "    layers.RandomFlip(\"horizontal\",\n",
    "                      input_shape=(img_height,\n",
    "                                  img_width,\n",
    "                                  3)),\n",
    "    layers.RandomRotation(0.1),\n",
    "    layers.RandomZoom(0.1),\n",
    "  ]\n",
    ")"
   ]
  },
  {
   "cell_type": "code",
   "execution_count": 13,
   "metadata": {
    "id": "A5LyBXDfS4nG"
   },
   "outputs": [],
   "source": [
    "num_classes = len(class_names)\n",
    "\n",
    "model = Sequential([\n",
    "    data_augmentation,\n",
    "  layers.Rescaling(1./255, input_shape=(img_height, img_width, 3)),\n",
    "  layers.Conv2D(16, 3, padding='same', activation='relu'),\n",
    "  layers.MaxPooling2D(),\n",
    "  layers.Conv2D(32, 3, padding='same', activation='relu'),\n",
    "  layers.MaxPooling2D(),\n",
    "  layers.Conv2D(64, 3, padding='same', activation='relu'),\n",
    "  layers.MaxPooling2D(),\n",
    "  layers.Conv2D(64, 3, padding='same', activation='relu'),\n",
    "  layers.MaxPooling2D(),\n",
    "  layers.Conv2D(64, 3, padding='same', activation='relu'),\n",
    "  layers.MaxPooling2D(),\n",
    "\n",
    "  layers.Flatten(),\n",
    "  layers.Dense(128, activation='relu'),\n",
    "  layers.Dense(num_classes)\n",
    "])"
   ]
  },
  {
   "cell_type": "code",
   "execution_count": 14,
   "metadata": {
    "id": "DJUwVVRBTpyz"
   },
   "outputs": [],
   "source": [
    "model.compile(optimizer='adam',\n",
    "              loss=tf.keras.losses.SparseCategoricalCrossentropy(from_logits=True),\n",
    "              metrics=['accuracy'])"
   ]
  },
  {
   "cell_type": "code",
   "execution_count": 15,
   "metadata": {
    "colab": {
     "base_uri": "https://localhost:8080/"
    },
    "id": "aAZWbQCFTsgt",
    "outputId": "03ce1db9-2119-4f0b-96c8-859ea5b9bbd9"
   },
   "outputs": [
    {
     "name": "stdout",
     "output_type": "stream",
     "text": [
      "Model: \"sequential_1\"\n",
      "_________________________________________________________________\n",
      " Layer (type)                Output Shape              Param #   \n",
      "=================================================================\n",
      " sequential (Sequential)     (None, 256, 256, 3)       0         \n",
      "                                                                 \n",
      " rescaling (Rescaling)       (None, 256, 256, 3)       0         \n",
      "                                                                 \n",
      " conv2d (Conv2D)             (None, 256, 256, 16)      448       \n",
      "                                                                 \n",
      " max_pooling2d (MaxPooling2D  (None, 128, 128, 16)     0         \n",
      " )                                                               \n",
      "                                                                 \n",
      " conv2d_1 (Conv2D)           (None, 128, 128, 32)      4640      \n",
      "                                                                 \n",
      " max_pooling2d_1 (MaxPooling  (None, 64, 64, 32)       0         \n",
      " 2D)                                                             \n",
      "                                                                 \n",
      " conv2d_2 (Conv2D)           (None, 64, 64, 64)        18496     \n",
      "                                                                 \n",
      " max_pooling2d_2 (MaxPooling  (None, 32, 32, 64)       0         \n",
      " 2D)                                                             \n",
      "                                                                 \n",
      " conv2d_3 (Conv2D)           (None, 32, 32, 64)        36928     \n",
      "                                                                 \n",
      " max_pooling2d_3 (MaxPooling  (None, 16, 16, 64)       0         \n",
      " 2D)                                                             \n",
      "                                                                 \n",
      " conv2d_4 (Conv2D)           (None, 16, 16, 64)        36928     \n",
      "                                                                 \n",
      " max_pooling2d_4 (MaxPooling  (None, 8, 8, 64)         0         \n",
      " 2D)                                                             \n",
      "                                                                 \n",
      " flatten (Flatten)           (None, 4096)              0         \n",
      "                                                                 \n",
      " dense (Dense)               (None, 128)               524416    \n",
      "                                                                 \n",
      " dense_1 (Dense)             (None, 7)                 903       \n",
      "                                                                 \n",
      "=================================================================\n",
      "Total params: 622,759\n",
      "Trainable params: 622,759\n",
      "Non-trainable params: 0\n",
      "_________________________________________________________________\n"
     ]
    }
   ],
   "source": [
    "model.summary()\n"
   ]
  },
  {
   "cell_type": "code",
   "execution_count": 16,
   "metadata": {
    "colab": {
     "base_uri": "https://localhost:8080/"
    },
    "id": "2ovm2ZGyTxi0",
    "outputId": "5802a275-2fd2-45ff-c97b-92275e1e7687"
   },
   "outputs": [
    {
     "name": "stdout",
     "output_type": "stream",
     "text": [
      "Epoch 1/50\n",
      "4/4 [==============================] - 16s 334ms/step - loss: 1.4421 - accuracy: 0.4715\n",
      "Epoch 2/50\n",
      "4/4 [==============================] - 1s 41ms/step - loss: 1.0531 - accuracy: 0.5528\n",
      "Epoch 3/50\n",
      "4/4 [==============================] - 1s 39ms/step - loss: 1.0231 - accuracy: 0.6098\n",
      "Epoch 4/50\n",
      "4/4 [==============================] - 1s 45ms/step - loss: 0.9808 - accuracy: 0.6098\n",
      "Epoch 5/50\n",
      "4/4 [==============================] - 1s 52ms/step - loss: 0.9683 - accuracy: 0.6098\n",
      "Epoch 6/50\n",
      "4/4 [==============================] - 1s 43ms/step - loss: 0.9734 - accuracy: 0.6016\n",
      "Epoch 7/50\n",
      "4/4 [==============================] - 1s 42ms/step - loss: 0.9387 - accuracy: 0.6098\n",
      "Epoch 8/50\n",
      "4/4 [==============================] - 1s 41ms/step - loss: 0.9337 - accuracy: 0.6260\n",
      "Epoch 9/50\n",
      "4/4 [==============================] - 1s 44ms/step - loss: 0.9159 - accuracy: 0.6098\n",
      "Epoch 10/50\n",
      "4/4 [==============================] - 1s 43ms/step - loss: 0.8794 - accuracy: 0.6341\n",
      "Epoch 11/50\n",
      "4/4 [==============================] - 1s 48ms/step - loss: 0.8566 - accuracy: 0.6504\n",
      "Epoch 12/50\n",
      "4/4 [==============================] - 1s 53ms/step - loss: 0.8446 - accuracy: 0.6423\n",
      "Epoch 13/50\n",
      "4/4 [==============================] - 1s 46ms/step - loss: 0.8143 - accuracy: 0.6748\n",
      "Epoch 14/50\n",
      "4/4 [==============================] - 1s 41ms/step - loss: 0.7656 - accuracy: 0.6748\n",
      "Epoch 15/50\n",
      "4/4 [==============================] - 1s 48ms/step - loss: 0.7616 - accuracy: 0.7073\n",
      "Epoch 16/50\n",
      "4/4 [==============================] - 1s 41ms/step - loss: 0.7996 - accuracy: 0.6911\n",
      "Epoch 17/50\n",
      "4/4 [==============================] - 1s 42ms/step - loss: 0.7924 - accuracy: 0.6423\n",
      "Epoch 18/50\n",
      "4/4 [==============================] - 1s 41ms/step - loss: 0.6654 - accuracy: 0.6911\n",
      "Epoch 19/50\n",
      "4/4 [==============================] - 1s 40ms/step - loss: 0.6433 - accuracy: 0.6992\n",
      "Epoch 20/50\n",
      "4/4 [==============================] - 1s 40ms/step - loss: 0.7122 - accuracy: 0.7073\n",
      "Epoch 21/50\n",
      "4/4 [==============================] - 1s 39ms/step - loss: 0.6837 - accuracy: 0.6992\n",
      "Epoch 22/50\n",
      "4/4 [==============================] - 1s 44ms/step - loss: 0.7408 - accuracy: 0.7236\n",
      "Epoch 23/50\n",
      "4/4 [==============================] - 1s 54ms/step - loss: 0.5989 - accuracy: 0.7236\n",
      "Epoch 24/50\n",
      "4/4 [==============================] - 1s 43ms/step - loss: 0.6287 - accuracy: 0.7480\n",
      "Epoch 25/50\n",
      "4/4 [==============================] - 1s 44ms/step - loss: 0.5726 - accuracy: 0.7236\n",
      "Epoch 26/50\n",
      "4/4 [==============================] - 1s 50ms/step - loss: 0.5940 - accuracy: 0.6992\n",
      "Epoch 27/50\n",
      "4/4 [==============================] - 1s 46ms/step - loss: 0.5406 - accuracy: 0.7724\n",
      "Epoch 28/50\n",
      "4/4 [==============================] - 1s 42ms/step - loss: 0.6295 - accuracy: 0.7724\n",
      "Epoch 29/50\n",
      "4/4 [==============================] - 1s 42ms/step - loss: 0.5442 - accuracy: 0.7967\n",
      "Epoch 30/50\n",
      "4/4 [==============================] - 1s 50ms/step - loss: 0.5746 - accuracy: 0.7398\n",
      "Epoch 31/50\n",
      "4/4 [==============================] - 1s 52ms/step - loss: 0.4950 - accuracy: 0.8537\n",
      "Epoch 32/50\n",
      "4/4 [==============================] - 1s 42ms/step - loss: 0.5064 - accuracy: 0.7886\n",
      "Epoch 33/50\n",
      "4/4 [==============================] - 1s 40ms/step - loss: 0.4570 - accuracy: 0.8049\n",
      "Epoch 34/50\n",
      "4/4 [==============================] - 1s 40ms/step - loss: 0.4906 - accuracy: 0.7561\n",
      "Epoch 35/50\n",
      "4/4 [==============================] - 1s 40ms/step - loss: 0.4763 - accuracy: 0.8049\n",
      "Epoch 36/50\n",
      "4/4 [==============================] - 1s 48ms/step - loss: 0.4673 - accuracy: 0.7724\n",
      "Epoch 37/50\n",
      "4/4 [==============================] - 1s 39ms/step - loss: 0.3663 - accuracy: 0.8374\n",
      "Epoch 38/50\n",
      "4/4 [==============================] - 1s 39ms/step - loss: 0.3858 - accuracy: 0.8537\n",
      "Epoch 39/50\n",
      "4/4 [==============================] - 1s 39ms/step - loss: 0.4239 - accuracy: 0.8130\n",
      "Epoch 40/50\n",
      "4/4 [==============================] - 1s 53ms/step - loss: 0.3805 - accuracy: 0.8211\n",
      "Epoch 41/50\n",
      "4/4 [==============================] - 1s 43ms/step - loss: 0.3495 - accuracy: 0.8618\n",
      "Epoch 42/50\n",
      "4/4 [==============================] - 1s 40ms/step - loss: 0.3615 - accuracy: 0.8537\n",
      "Epoch 43/50\n",
      "4/4 [==============================] - 1s 40ms/step - loss: 0.3982 - accuracy: 0.8130\n",
      "Epoch 44/50\n",
      "4/4 [==============================] - 1s 44ms/step - loss: 0.4870 - accuracy: 0.7561\n",
      "Epoch 45/50\n",
      "4/4 [==============================] - 1s 64ms/step - loss: 0.3408 - accuracy: 0.8618\n",
      "Epoch 46/50\n",
      "4/4 [==============================] - 1s 52ms/step - loss: 0.3376 - accuracy: 0.8537\n",
      "Epoch 47/50\n",
      "4/4 [==============================] - 1s 49ms/step - loss: 0.3430 - accuracy: 0.8455\n",
      "Epoch 48/50\n",
      "4/4 [==============================] - 1s 39ms/step - loss: 0.4220 - accuracy: 0.8455\n",
      "Epoch 49/50\n",
      "4/4 [==============================] - 1s 40ms/step - loss: 0.3511 - accuracy: 0.8455\n",
      "Epoch 50/50\n",
      "4/4 [==============================] - 1s 47ms/step - loss: 0.3978 - accuracy: 0.8455\n"
     ]
    }
   ],
   "source": [
    "epochs=50\n",
    "history = model.fit(\n",
    "  train_ds,\n",
    "  epochs=epochs\n",
    ")"
   ]
  },
  {
   "cell_type": "code",
   "execution_count": 17,
   "metadata": {
    "id": "cA3wEBqQVMkT"
   },
   "outputs": [],
   "source": [
    "model.save(\"Model1.h5\")"
   ]
  },
  {
   "cell_type": "markdown",
   "metadata": {
    "id": "ua3_YfWyzTUM"
   },
   "source": [
    "### USING A PRETRAINED MODEL "
   ]
  },
  {
   "cell_type": "code",
   "execution_count": 28,
   "metadata": {
    "id": "aR6yQTEjz2ed"
   },
   "outputs": [],
   "source": [
    "from tensorflow.keras.applications.vgg16 import VGG16"
   ]
  },
  {
   "cell_type": "code",
   "execution_count": 29,
   "metadata": {
    "id": "kFCavnw7z6JT"
   },
   "outputs": [],
   "source": [
    "base_model = VGG16(input_shape = (img_width, img_height, 3),\n",
    "include_top = False,\n",
    "weights = 'imagenet')"
   ]
  },
  {
   "cell_type": "code",
   "execution_count": 30,
   "metadata": {
    "colab": {
     "base_uri": "https://localhost:8080/"
    },
    "id": "R2h5gbk8z6wZ",
    "outputId": "a730f06f-6aae-4a99-a509-81ffd92ebfe2"
   },
   "outputs": [
    {
     "name": "stdout",
     "output_type": "stream",
     "text": [
      "Model: \"vgg16\"\n",
      "_________________________________________________________________\n",
      " Layer (type)                Output Shape              Param #   \n",
      "=================================================================\n",
      " input_2 (InputLayer)        [(None, 256, 256, 3)]     0         \n",
      "                                                                 \n",
      " block1_conv1 (Conv2D)       (None, 256, 256, 64)      1792      \n",
      "                                                                 \n",
      " block1_conv2 (Conv2D)       (None, 256, 256, 64)      36928     \n",
      "                                                                 \n",
      " block1_pool (MaxPooling2D)  (None, 128, 128, 64)      0         \n",
      "                                                                 \n",
      " block2_conv1 (Conv2D)       (None, 128, 128, 128)     73856     \n",
      "                                                                 \n",
      " block2_conv2 (Conv2D)       (None, 128, 128, 128)     147584    \n",
      "                                                                 \n",
      " block2_pool (MaxPooling2D)  (None, 64, 64, 128)       0         \n",
      "                                                                 \n",
      " block3_conv1 (Conv2D)       (None, 64, 64, 256)       295168    \n",
      "                                                                 \n",
      " block3_conv2 (Conv2D)       (None, 64, 64, 256)       590080    \n",
      "                                                                 \n",
      " block3_conv3 (Conv2D)       (None, 64, 64, 256)       590080    \n",
      "                                                                 \n",
      " block3_pool (MaxPooling2D)  (None, 32, 32, 256)       0         \n",
      "                                                                 \n",
      " block4_conv1 (Conv2D)       (None, 32, 32, 512)       1180160   \n",
      "                                                                 \n",
      " block4_conv2 (Conv2D)       (None, 32, 32, 512)       2359808   \n",
      "                                                                 \n",
      " block4_conv3 (Conv2D)       (None, 32, 32, 512)       2359808   \n",
      "                                                                 \n",
      " block4_pool (MaxPooling2D)  (None, 16, 16, 512)       0         \n",
      "                                                                 \n",
      " block5_conv1 (Conv2D)       (None, 16, 16, 512)       2359808   \n",
      "                                                                 \n",
      " block5_conv2 (Conv2D)       (None, 16, 16, 512)       2359808   \n",
      "                                                                 \n",
      " block5_conv3 (Conv2D)       (None, 16, 16, 512)       2359808   \n",
      "                                                                 \n",
      " block5_pool (MaxPooling2D)  (None, 8, 8, 512)         0         \n",
      "                                                                 \n",
      "=================================================================\n",
      "Total params: 14,714,688\n",
      "Trainable params: 14,714,688\n",
      "Non-trainable params: 0\n",
      "_________________________________________________________________\n"
     ]
    }
   ],
   "source": [
    "base_model.summary()"
   ]
  },
  {
   "cell_type": "code",
   "execution_count": 31,
   "metadata": {
    "id": "Sp5dTO620fEn"
   },
   "outputs": [],
   "source": [
    "for layer in base_model.layers:\n",
    "    layer.trainable = False"
   ]
  },
  {
   "cell_type": "code",
   "execution_count": 32,
   "metadata": {
    "id": "Iq8wdzK_z7Ba"
   },
   "outputs": [],
   "source": [
    "x = layers.Flatten()(base_model.output)\n",
    "\n",
    "x = layers.Dense(128, activation='relu')(x)\n",
    "\n",
    "x = layers.Dropout(0.5)(x)\n",
    "\n",
    "x = layers.Dense(num_classes,activation=\"softmax\")(x)\n",
    "\n",
    "model = tf.keras.models.Model(base_model.input, x)\n",
    "\n",
    "# model.compile(optimizer = tf.keras.optimizers.RMSprop(lr=0.0001), loss = 'binary_crossentropy',metrics = ['acc'])\n",
    "model.compile(optimizer='adam',\n",
    "              loss=tf.keras.losses.SparseCategoricalCrossentropy(),\n",
    "              metrics=['accuracy'])"
   ]
  },
  {
   "cell_type": "code",
   "execution_count": 33,
   "metadata": {
    "colab": {
     "base_uri": "https://localhost:8080/"
    },
    "id": "7balXneMz7Pd",
    "outputId": "8ff712ed-00f2-4bb7-9460-192a3724f1ac"
   },
   "outputs": [
    {
     "name": "stdout",
     "output_type": "stream",
     "text": [
      "Epoch 1/30\n",
      "4/4 [==============================] - 4s 485ms/step - loss: 34.3135 - accuracy: 0.4878 - val_loss: 13.7786 - val_accuracy: 0.8269\n",
      "Epoch 2/30\n",
      "4/4 [==============================] - 2s 328ms/step - loss: 19.6223 - accuracy: 0.8374 - val_loss: 16.5311 - val_accuracy: 0.8654\n",
      "Epoch 3/30\n",
      "4/4 [==============================] - 2s 330ms/step - loss: 8.8252 - accuracy: 0.8943 - val_loss: 7.2426 - val_accuracy: 0.9231\n",
      "Epoch 4/30\n",
      "4/4 [==============================] - 2s 327ms/step - loss: 4.0908 - accuracy: 0.9512 - val_loss: 5.2481 - val_accuracy: 0.9231\n",
      "Epoch 5/30\n",
      "4/4 [==============================] - 2s 336ms/step - loss: 1.3783 - accuracy: 0.9675 - val_loss: 5.5450 - val_accuracy: 0.9231\n",
      "Epoch 6/30\n",
      "4/4 [==============================] - 2s 590ms/step - loss: 0.5577 - accuracy: 0.9756 - val_loss: 5.6765 - val_accuracy: 0.9231\n",
      "Epoch 7/30\n",
      "4/4 [==============================] - 2s 336ms/step - loss: 0.5735 - accuracy: 0.9837 - val_loss: 5.7953 - val_accuracy: 0.9423\n",
      "Epoch 8/30\n",
      "4/4 [==============================] - 2s 342ms/step - loss: 0.8226 - accuracy: 0.9756 - val_loss: 6.0368 - val_accuracy: 0.9423\n",
      "Epoch 9/30\n",
      "4/4 [==============================] - 2s 327ms/step - loss: 1.1371 - accuracy: 0.9919 - val_loss: 5.8556 - val_accuracy: 0.9423\n",
      "Epoch 10/30\n",
      "4/4 [==============================] - 2s 340ms/step - loss: 0.4839 - accuracy: 0.9837 - val_loss: 6.0599 - val_accuracy: 0.9423\n",
      "Epoch 11/30\n",
      "4/4 [==============================] - 2s 335ms/step - loss: 0.1788 - accuracy: 0.9837 - val_loss: 6.1676 - val_accuracy: 0.9423\n",
      "Epoch 12/30\n",
      "4/4 [==============================] - 2s 337ms/step - loss: 0.4461 - accuracy: 0.9837 - val_loss: 6.3796 - val_accuracy: 0.9423\n",
      "Epoch 13/30\n",
      "4/4 [==============================] - 2s 373ms/step - loss: 0.5069 - accuracy: 0.9837 - val_loss: 6.0942 - val_accuracy: 0.9423\n",
      "Epoch 14/30\n",
      "4/4 [==============================] - 2s 385ms/step - loss: 0.2217 - accuracy: 0.9837 - val_loss: 6.1286 - val_accuracy: 0.9423\n",
      "Epoch 15/30\n",
      "4/4 [==============================] - 2s 343ms/step - loss: 0.2237 - accuracy: 0.9837 - val_loss: 7.0373 - val_accuracy: 0.9423\n",
      "Epoch 16/30\n",
      "4/4 [==============================] - 2s 330ms/step - loss: 0.1407 - accuracy: 0.9919 - val_loss: 7.5919 - val_accuracy: 0.9423\n",
      "Epoch 17/30\n",
      "4/4 [==============================] - 2s 334ms/step - loss: 0.4840 - accuracy: 0.9919 - val_loss: 7.9587 - val_accuracy: 0.9423\n",
      "Epoch 18/30\n",
      "4/4 [==============================] - 2s 339ms/step - loss: 0.6126 - accuracy: 0.9837 - val_loss: 7.9031 - val_accuracy: 0.9423\n",
      "Epoch 19/30\n",
      "4/4 [==============================] - 2s 337ms/step - loss: 3.8009 - accuracy: 0.9919 - val_loss: 7.6965 - val_accuracy: 0.9423\n",
      "Epoch 20/30\n",
      "4/4 [==============================] - 3s 593ms/step - loss: 0.0217 - accuracy: 0.9919 - val_loss: 7.4500 - val_accuracy: 0.9423\n",
      "Epoch 21/30\n",
      "4/4 [==============================] - 2s 331ms/step - loss: 0.3972 - accuracy: 0.9919 - val_loss: 7.2607 - val_accuracy: 0.9615\n",
      "Epoch 22/30\n",
      "4/4 [==============================] - 2s 336ms/step - loss: 0.1981 - accuracy: 0.9756 - val_loss: 7.3831 - val_accuracy: 0.9615\n",
      "Epoch 23/30\n",
      "4/4 [==============================] - 2s 336ms/step - loss: 1.6476e-08 - accuracy: 1.0000 - val_loss: 7.7195 - val_accuracy: 0.9615\n",
      "Epoch 24/30\n",
      "4/4 [==============================] - 2s 323ms/step - loss: 0.3007 - accuracy: 0.9919 - val_loss: 8.0250 - val_accuracy: 0.9615\n",
      "Epoch 25/30\n",
      "4/4 [==============================] - 2s 331ms/step - loss: 0.5028 - accuracy: 0.9837 - val_loss: 7.8403 - val_accuracy: 0.9615\n",
      "Epoch 26/30\n",
      "4/4 [==============================] - 3s 592ms/step - loss: 0.5801 - accuracy: 0.9756 - val_loss: 8.2082 - val_accuracy: 0.9423\n",
      "Epoch 27/30\n",
      "4/4 [==============================] - 2s 335ms/step - loss: 5.8151e-08 - accuracy: 1.0000 - val_loss: 9.0335 - val_accuracy: 0.9423\n",
      "Epoch 28/30\n",
      "4/4 [==============================] - 2s 321ms/step - loss: 0.0967 - accuracy: 0.9919 - val_loss: 9.8456 - val_accuracy: 0.9423\n",
      "Epoch 29/30\n",
      "4/4 [==============================] - 2s 328ms/step - loss: 0.7487 - accuracy: 0.9919 - val_loss: 10.1783 - val_accuracy: 0.9423\n",
      "Epoch 30/30\n",
      "4/4 [==============================] - 2s 322ms/step - loss: 1.6228e-04 - accuracy: 1.0000 - val_loss: 10.3925 - val_accuracy: 0.9423\n"
     ]
    }
   ],
   "source": [
    "epochs=30\n",
    "history = model.fit(\n",
    "  train_ds,\n",
    "  validation_data = valid_ds,\n",
    "  epochs=epochs\n",
    ")"
   ]
  },
  {
   "cell_type": "code",
   "execution_count": 34,
   "metadata": {
    "id": "VewUSBQmz7ZA"
   },
   "outputs": [],
   "source": [
    "model.save(\"Model2.h5\")"
   ]
  },
  {
   "cell_type": "code",
   "execution_count": 35,
   "metadata": {
    "colab": {
     "base_uri": "https://localhost:8080/",
     "height": 945
    },
    "id": "IcNKxuniV4cH",
    "outputId": "f3322662-103a-4c8f-9bc7-83ce392fedce"
   },
   "outputs": [
    {
     "name": "stdout",
     "output_type": "stream",
     "text": [
      "dict_keys(['loss', 'accuracy', 'val_loss', 'val_accuracy'])\n"
     ]
    },
    {
     "data": {
      "image/png": "[encoded data removed]",
      "text/plain": [
       "<Figure size 640x480 with 1 Axes>"
      ]
     },
     "metadata": {},
     "output_type": "display_data"
    },
    {
     "data": {
      "image/png": "[encoded data removed]",
      "text/plain": [
       "<Figure size 640x480 with 1 Axes>"
      ]
     },
     "metadata": {},
     "output_type": "display_data"
    }
   ],
   "source": [
    "print(history.history.keys())\n",
    "# summarize history for accuracy\n",
    "plt.plot(history.history['accuracy'])\n",
    "plt.plot(history.history['val_accuracy'])\n",
    "plt.title('model accuracy')\n",
    "plt.ylabel('accuracy')\n",
    "plt.xlabel('epoch')\n",
    "plt.legend(['train', 'test'], loc='upper left')\n",
    "plt.show()\n",
    "# summarize history for loss\n",
    "plt.plot(history.history['loss'])\n",
    "plt.plot(history.history['val_loss'])\n",
    "plt.title('model loss')\n",
    "plt.ylabel('loss')\n",
    "plt.xlabel('epoch')\n",
    "plt.legend(['train', 'test'], loc='upper left')\n",
    "plt.show()"
   ]
  },
  {
   "cell_type": "code",
   "execution_count": null,
   "metadata": {
    "id": "P7EJ_QJ0-9n4"
   },
   "outputs": [],
   "source": []
  }
 ],
 "metadata": {
  "accelerator": "GPU",
  "colab": {
   "provenance": []
  },
  "gpuClass": "standard",
  "kernelspec": {
   "display_name": "Python 3 (ipykernel)",
   "language": "python",
   "name": "python3"
  },
  "language_info": {
   "codemirror_mode": {
    "name": "ipython",
    "version": 3
   },
   "file_extension": ".py",
   "mimetype": "text/x-python",
   "name": "python",
   "nbconvert_exporter": "python",
   "pygments_lexer": "ipython3",
   "version": "3.10.6"
  }
 },
 "nbformat": 4,
 "nbformat_minor": 1
}
