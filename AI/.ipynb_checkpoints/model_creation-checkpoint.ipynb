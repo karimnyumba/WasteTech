{
 "cells": [
  {
   "cell_type": "code",
   "execution_count": 2,
   "metadata": {
    "id": "F8RkRYr2PXhS"
   },
   "outputs": [],
   "source": [
    "import pathlib\n",
    "import tensorflow as tf\n",
    "from tensorflow import keras\n",
    "from tensorflow.keras import Sequential,layers\n",
    "import matplotlib.pyplot as plt"
   ]
  },
  {
   "cell_type": "code",
   "execution_count": 34,
   "metadata": {
    "id": "_KLQA9wyO-fl"
   },
   "outputs": [],
   "source": [
    "# data_dir = pathlib.Path(\"/content/drive/MyDrive/ECGTrain/\")\n",
    "data_dir = pathlib.Path(\"/content/Data\")\n",
    "# data_dir2 =pathlib.Path(\"/content/drive/MyDrive/ECGcheck\")"
   ]
  },
  {
   "cell_type": "code",
   "execution_count": 35,
   "metadata": {
    "id": "ywf-8sLGPRCB"
   },
   "outputs": [],
   "source": [
    "# image_count = len(list(data_dir.glob(\"*/*.png\")))"
   ]
  },
  {
   "cell_type": "code",
   "execution_count": 36,
   "metadata": {
    "id": "jnGVe6tXP99w"
   },
   "outputs": [],
   "source": [
    "# image_count"
   ]
  },
  {
   "cell_type": "code",
   "execution_count": 37,
   "metadata": {
    "id": "03tIqGEyQGkV"
   },
   "outputs": [],
   "source": [
    "img_width = 256\n",
    "img_height = 256\n",
    "batch_size =32"
   ]
  },
  {
   "cell_type": "code",
   "execution_count": 38,
   "metadata": {
    "colab": {
     "base_uri": "https://localhost:8080/"
    },
    "id": "EeVzUDFxQaOD",
    "outputId": "66889cc0-1efa-437d-841f-4dcf8ea06daf"
   },
   "outputs": [
    {
     "name": "stdout",
     "output_type": "stream",
     "text": [
      "Found 175 files belonging to 7 classes.\n",
      "Using 123 files for training.\n",
      "Found 175 files belonging to 7 classes.\n",
      "Using 52 files for validation.\n"
     ]
    }
   ],
   "source": [
    "train_ds = tf.keras.utils.image_dataset_from_directory(\n",
    "    data_dir,\n",
    "  validation_split=0.3,\n",
    "  subset=\"training\",\n",
    "  seed=123,\n",
    "  image_size=(img_height, img_width),\n",
    "  batch_size=batch_size\n",
    ")\n",
    "valid_ds = tf.keras.utils.image_dataset_from_directory(\n",
    "    data_dir,\n",
    "    validation_split=0.3,\n",
    "  subset=\"validation\",\n",
    "  seed=123,\n",
    "  image_size=(img_height, img_width),\n",
    "  batch_size=batch_size\n",
    ")\n",
    "# train_ds2 = tf.keras.utils.image_dataset_from_directory(\n",
    "#     data_dir2,\n",
    "#   validation_split=0.3,\n",
    "#   subset=\"training\",\n",
    "#   seed=123,\n",
    "#   image_size=(img_height, img_width),\n",
    "#   batch_size=batch_size\n",
    "# )\n",
    "# valid_ds2 = tf.keras.utils.image_dataset_from_directory(\n",
    "#     data_dir2,\n",
    "#     validation_split=0.3,\n",
    "#   subset=\"validation\",\n",
    "#   seed=123,\n",
    "#   image_size=(img_height, img_width),\n",
    "#   batch_size=batch_size\n",
    "# )"
   ]
  },
  {
   "cell_type": "code",
   "execution_count": 39,
   "metadata": {
    "id": "Kex6MWN3RMMX"
   },
   "outputs": [],
   "source": [
    "class_names = train_ds.class_names\n",
    "# class_names2 = train_ds2.class_names\n"
   ]
  },
  {
   "cell_type": "code",
   "execution_count": 40,
   "metadata": {
    "colab": {
     "base_uri": "https://localhost:8080/"
    },
    "id": "GLPFcqembXB9",
    "outputId": "6f7ae150-3005-4baf-a8b6-4c4ee74b4f8b"
   },
   "outputs": [
    {
     "data": {
      "text/plain": [
       "['HDPE', 'LDPE', 'OTHER', 'PET', 'PP', 'PS', 'PVC']"
      ]
     },
     "execution_count": 40,
     "metadata": {},
     "output_type": "execute_result"
    }
   ],
   "source": [
    "class_names"
   ]
  },
  {
   "cell_type": "code",
   "execution_count": 41,
   "metadata": {
    "id": "SgAhRh_1RXju"
   },
   "outputs": [],
   "source": [
    "num_classes = len(class_names)\n"
   ]
  },
  {
   "cell_type": "code",
   "execution_count": 41,
   "metadata": {
    "id": "x1_oPeCmbaiB"
   },
   "outputs": [],
   "source": []
  },
  {
   "cell_type": "code",
   "execution_count": 42,
   "metadata": {
    "id": "Y09jmycISt1H"
   },
   "outputs": [],
   "source": [
    "# AUTOTUNE = tf.data.AUTOTUNE\n",
    "# train_ds = train_ds.cache().shuffle(1000).prefetch(buffer_size=AUTOTUNE)\n",
    "data_augmentation = keras.Sequential(\n",
    "  [\n",
    "    layers.RandomFlip(\"horizontal\",\n",
    "                      input_shape=(img_height,\n",
    "                                  img_width,\n",
    "                                  3)),\n",
    "    layers.RandomRotation(0.1),\n",
    "    layers.RandomZoom(0.1),\n",
    "  ]\n",
    ")"
   ]
  },
  {
   "cell_type": "code",
   "execution_count": 43,
   "metadata": {
    "id": "A5LyBXDfS4nG"
   },
   "outputs": [],
   "source": [
    "num_classes = len(class_names)\n",
    "\n",
    "model = Sequential([\n",
    "    data_augmentation,\n",
    "  layers.Rescaling(1./255, input_shape=(img_height, img_width, 3)),\n",
    "  layers.Conv2D(16, 3, padding='same', activation='relu'),\n",
    "  layers.MaxPooling2D(),\n",
    "  layers.Conv2D(32, 3, padding='same', activation='relu'),\n",
    "  layers.MaxPooling2D(),\n",
    "  layers.Conv2D(64, 3, padding='same', activation='relu'),\n",
    "  layers.MaxPooling2D(),\n",
    "  layers.Conv2D(64, 3, padding='same', activation='relu'),\n",
    "  layers.MaxPooling2D(),\n",
    "  layers.Conv2D(64, 3, padding='same', activation='relu'),\n",
    "  layers.MaxPooling2D(),\n",
    "\n",
    "  layers.Flatten(),\n",
    "  layers.Dense(128, activation='relu'),\n",
    "  layers.Dense(num_classes)\n",
    "])"
   ]
  },
  {
   "cell_type": "code",
   "execution_count": 44,
   "metadata": {
    "id": "DJUwVVRBTpyz"
   },
   "outputs": [],
   "source": [
    "model.compile(optimizer='adam',\n",
    "              loss=tf.keras.losses.SparseCategoricalCrossentropy(from_logits=True),\n",
    "              metrics=['accuracy'])"
   ]
  },
  {
   "cell_type": "code",
   "execution_count": 45,
   "metadata": {
    "colab": {
     "base_uri": "https://localhost:8080/"
    },
    "id": "aAZWbQCFTsgt",
    "outputId": "250337e3-a328-49f2-e379-f729053b743b"
   },
   "outputs": [
    {
     "name": "stdout",
     "output_type": "stream",
     "text": [
      "Model: \"sequential_3\"\n",
      "_________________________________________________________________\n",
      " Layer (type)                Output Shape              Param #   \n",
      "=================================================================\n",
      " sequential_2 (Sequential)   (None, 256, 256, 3)       0         \n",
      "                                                                 \n",
      " rescaling_1 (Rescaling)     (None, 256, 256, 3)       0         \n",
      "                                                                 \n",
      " conv2d_5 (Conv2D)           (None, 256, 256, 16)      448       \n",
      "                                                                 \n",
      " max_pooling2d_5 (MaxPooling  (None, 128, 128, 16)     0         \n",
      " 2D)                                                             \n",
      "                                                                 \n",
      " conv2d_6 (Conv2D)           (None, 128, 128, 32)      4640      \n",
      "                                                                 \n",
      " max_pooling2d_6 (MaxPooling  (None, 64, 64, 32)       0         \n",
      " 2D)                                                             \n",
      "                                                                 \n",
      " conv2d_7 (Conv2D)           (None, 64, 64, 64)        18496     \n",
      "                                                                 \n",
      " max_pooling2d_7 (MaxPooling  (None, 32, 32, 64)       0         \n",
      " 2D)                                                             \n",
      "                                                                 \n",
      " conv2d_8 (Conv2D)           (None, 32, 32, 64)        36928     \n",
      "                                                                 \n",
      " max_pooling2d_8 (MaxPooling  (None, 16, 16, 64)       0         \n",
      " 2D)                                                             \n",
      "                                                                 \n",
      " conv2d_9 (Conv2D)           (None, 16, 16, 64)        36928     \n",
      "                                                                 \n",
      " max_pooling2d_9 (MaxPooling  (None, 8, 8, 64)         0         \n",
      " 2D)                                                             \n",
      "                                                                 \n",
      " flatten_2 (Flatten)         (None, 4096)              0         \n",
      "                                                                 \n",
      " dense_4 (Dense)             (None, 128)               524416    \n",
      "                                                                 \n",
      " dense_5 (Dense)             (None, 7)                 903       \n",
      "                                                                 \n",
      "=================================================================\n",
      "Total params: 622,759\n",
      "Trainable params: 622,759\n",
      "Non-trainable params: 0\n",
      "_________________________________________________________________\n"
     ]
    }
   ],
   "source": [
    "model.summary()\n"
   ]
  },
  {
   "cell_type": "code",
   "execution_count": 46,
   "metadata": {
    "colab": {
     "base_uri": "https://localhost:8080/"
    },
    "id": "2ovm2ZGyTxi0",
    "outputId": "342c1e9b-4cf2-415d-e1ad-3322a8ed9308"
   },
   "outputs": [
    {
     "name": "stdout",
     "output_type": "stream",
     "text": [
      "Epoch 1/50\n",
      "4/4 [==============================] - 7s 398ms/step - loss: 1.4670 - accuracy: 0.4797\n",
      "Epoch 2/50\n",
      "4/4 [==============================] - 1s 61ms/step - loss: 1.0934 - accuracy: 0.4634\n",
      "Epoch 3/50\n",
      "4/4 [==============================] - 1s 49ms/step - loss: 0.9995 - accuracy: 0.6098\n",
      "Epoch 4/50\n",
      "4/4 [==============================] - 1s 41ms/step - loss: 1.0032 - accuracy: 0.6098\n",
      "Epoch 5/50\n",
      "4/4 [==============================] - 1s 40ms/step - loss: 0.9777 - accuracy: 0.6098\n",
      "Epoch 6/50\n",
      "4/4 [==============================] - 1s 40ms/step - loss: 0.9860 - accuracy: 0.6098\n",
      "Epoch 7/50\n",
      "4/4 [==============================] - 1s 48ms/step - loss: 0.9623 - accuracy: 0.6098\n",
      "Epoch 8/50\n",
      "4/4 [==============================] - 1s 45ms/step - loss: 0.9600 - accuracy: 0.6098\n",
      "Epoch 9/50\n",
      "4/4 [==============================] - 1s 42ms/step - loss: 0.9493 - accuracy: 0.6098\n",
      "Epoch 10/50\n",
      "4/4 [==============================] - 1s 42ms/step - loss: 0.9332 - accuracy: 0.6098\n",
      "Epoch 11/50\n",
      "4/4 [==============================] - 1s 52ms/step - loss: 0.9168 - accuracy: 0.6585\n",
      "Epoch 12/50\n",
      "4/4 [==============================] - 1s 41ms/step - loss: 0.8769 - accuracy: 0.6341\n",
      "Epoch 13/50\n",
      "4/4 [==============================] - 1s 45ms/step - loss: 0.8635 - accuracy: 0.6585\n",
      "Epoch 14/50\n",
      "4/4 [==============================] - 1s 51ms/step - loss: 0.7960 - accuracy: 0.6829\n",
      "Epoch 15/50\n",
      "4/4 [==============================] - 1s 41ms/step - loss: 0.7645 - accuracy: 0.7317\n",
      "Epoch 16/50\n",
      "4/4 [==============================] - 1s 40ms/step - loss: 0.8043 - accuracy: 0.6911\n",
      "Epoch 17/50\n",
      "4/4 [==============================] - 1s 45ms/step - loss: 0.8129 - accuracy: 0.6911\n",
      "Epoch 18/50\n",
      "4/4 [==============================] - 1s 40ms/step - loss: 0.7221 - accuracy: 0.7236\n",
      "Epoch 19/50\n",
      "4/4 [==============================] - 1s 41ms/step - loss: 0.7104 - accuracy: 0.7317\n",
      "Epoch 20/50\n",
      "4/4 [==============================] - 1s 53ms/step - loss: 0.7377 - accuracy: 0.6992\n",
      "Epoch 21/50\n",
      "4/4 [==============================] - 1s 44ms/step - loss: 0.7479 - accuracy: 0.6992\n",
      "Epoch 22/50\n",
      "4/4 [==============================] - 1s 40ms/step - loss: 0.6430 - accuracy: 0.7236\n",
      "Epoch 23/50\n",
      "4/4 [==============================] - 1s 49ms/step - loss: 0.6726 - accuracy: 0.6748\n",
      "Epoch 24/50\n",
      "4/4 [==============================] - 1s 49ms/step - loss: 0.5916 - accuracy: 0.7805\n",
      "Epoch 25/50\n",
      "4/4 [==============================] - 1s 47ms/step - loss: 0.7515 - accuracy: 0.7073\n",
      "Epoch 26/50\n",
      "4/4 [==============================] - 1s 51ms/step - loss: 0.5978 - accuracy: 0.7398\n",
      "Epoch 27/50\n",
      "4/4 [==============================] - 1s 50ms/step - loss: 0.6383 - accuracy: 0.7317\n",
      "Epoch 28/50\n",
      "4/4 [==============================] - 1s 48ms/step - loss: 0.6325 - accuracy: 0.7317\n",
      "Epoch 29/50\n",
      "4/4 [==============================] - 1s 50ms/step - loss: 0.5644 - accuracy: 0.7724\n",
      "Epoch 30/50\n",
      "4/4 [==============================] - 1s 41ms/step - loss: 0.6022 - accuracy: 0.8049\n",
      "Epoch 31/50\n",
      "4/4 [==============================] - 1s 38ms/step - loss: 0.5265 - accuracy: 0.7886\n",
      "Epoch 32/50\n",
      "4/4 [==============================] - 1s 39ms/step - loss: 0.5502 - accuracy: 0.8211\n",
      "Epoch 33/50\n",
      "4/4 [==============================] - 1s 41ms/step - loss: 0.5163 - accuracy: 0.7967\n",
      "Epoch 34/50\n",
      "4/4 [==============================] - 1s 47ms/step - loss: 0.4677 - accuracy: 0.7967\n",
      "Epoch 35/50\n",
      "4/4 [==============================] - 1s 40ms/step - loss: 0.5025 - accuracy: 0.7805\n",
      "Epoch 36/50\n",
      "4/4 [==============================] - 1s 40ms/step - loss: 0.4948 - accuracy: 0.8211\n",
      "Epoch 37/50\n",
      "4/4 [==============================] - 1s 49ms/step - loss: 0.4453 - accuracy: 0.8293\n",
      "Epoch 38/50\n",
      "4/4 [==============================] - 1s 40ms/step - loss: 0.4330 - accuracy: 0.8374\n",
      "Epoch 39/50\n",
      "4/4 [==============================] - 1s 39ms/step - loss: 0.4617 - accuracy: 0.8130\n",
      "Epoch 40/50\n",
      "4/4 [==============================] - 1s 43ms/step - loss: 0.4297 - accuracy: 0.8049\n",
      "Epoch 41/50\n",
      "4/4 [==============================] - 1s 54ms/step - loss: 0.3968 - accuracy: 0.8293\n",
      "Epoch 42/50\n",
      "4/4 [==============================] - 1s 43ms/step - loss: 0.3913 - accuracy: 0.8293\n",
      "Epoch 43/50\n",
      "4/4 [==============================] - 1s 47ms/step - loss: 0.3542 - accuracy: 0.8618\n",
      "Epoch 44/50\n",
      "4/4 [==============================] - 1s 45ms/step - loss: 0.2945 - accuracy: 0.8943\n",
      "Epoch 45/50\n",
      "4/4 [==============================] - 1s 48ms/step - loss: 0.3244 - accuracy: 0.8780\n",
      "Epoch 46/50\n",
      "4/4 [==============================] - 1s 42ms/step - loss: 0.3158 - accuracy: 0.8618\n",
      "Epoch 47/50\n",
      "4/4 [==============================] - 1s 39ms/step - loss: 0.2889 - accuracy: 0.8537\n",
      "Epoch 48/50\n",
      "4/4 [==============================] - 1s 39ms/step - loss: 0.3574 - accuracy: 0.8374\n",
      "Epoch 49/50\n",
      "4/4 [==============================] - 1s 41ms/step - loss: 0.3089 - accuracy: 0.8862\n",
      "Epoch 50/50\n",
      "4/4 [==============================] - 1s 39ms/step - loss: 0.2516 - accuracy: 0.9024\n"
     ]
    }
   ],
   "source": [
    "epochs=50\n",
    "history = model.fit(\n",
    "  train_ds,\n",
    "  epochs=epochs\n",
    ")"
   ]
  },
  {
   "cell_type": "code",
   "execution_count": 47,
   "metadata": {
    "id": "cA3wEBqQVMkT"
   },
   "outputs": [],
   "source": [
    "model.save(\"AcneModel.h5\")"
   ]
  },
  {
   "cell_type": "code",
   "execution_count": 48,
   "metadata": {
    "id": "ua3_YfWyzTUM"
   },
   "outputs": [],
   "source": [
    "### USING A PRETRAINED MODEL SINCE A CUSTOM MODEL HAS TE WORST PERFORMANCE\n"
   ]
  },
  {
   "cell_type": "code",
   "execution_count": 49,
   "metadata": {
    "id": "aR6yQTEjz2ed"
   },
   "outputs": [],
   "source": [
    "from tensorflow.keras.applications.vgg16 import VGG16"
   ]
  },
  {
   "cell_type": "code",
   "execution_count": 50,
   "metadata": {
    "id": "kFCavnw7z6JT"
   },
   "outputs": [],
   "source": [
    "base_model = VGG16(input_shape = (img_width, img_height, 3),\n",
    "include_top = False,\n",
    "weights = 'imagenet')"
   ]
  },
  {
   "cell_type": "code",
   "execution_count": 51,
   "metadata": {
    "colab": {
     "base_uri": "https://localhost:8080/"
    },
    "id": "R2h5gbk8z6wZ",
    "outputId": "e3203859-1439-4122-eb15-7440879ba4a1"
   },
   "outputs": [
    {
     "name": "stdout",
     "output_type": "stream",
     "text": [
      "Model: \"vgg16\"\n",
      "_________________________________________________________________\n",
      " Layer (type)                Output Shape              Param #   \n",
      "=================================================================\n",
      " input_2 (InputLayer)        [(None, 256, 256, 3)]     0         \n",
      "                                                                 \n",
      " block1_conv1 (Conv2D)       (None, 256, 256, 64)      1792      \n",
      "                                                                 \n",
      " block1_conv2 (Conv2D)       (None, 256, 256, 64)      36928     \n",
      "                                                                 \n",
      " block1_pool (MaxPooling2D)  (None, 128, 128, 64)      0         \n",
      "                                                                 \n",
      " block2_conv1 (Conv2D)       (None, 128, 128, 128)     73856     \n",
      "                                                                 \n",
      " block2_conv2 (Conv2D)       (None, 128, 128, 128)     147584    \n",
      "                                                                 \n",
      " block2_pool (MaxPooling2D)  (None, 64, 64, 128)       0         \n",
      "                                                                 \n",
      " block3_conv1 (Conv2D)       (None, 64, 64, 256)       295168    \n",
      "                                                                 \n",
      " block3_conv2 (Conv2D)       (None, 64, 64, 256)       590080    \n",
      "                                                                 \n",
      " block3_conv3 (Conv2D)       (None, 64, 64, 256)       590080    \n",
      "                                                                 \n",
      " block3_pool (MaxPooling2D)  (None, 32, 32, 256)       0         \n",
      "                                                                 \n",
      " block4_conv1 (Conv2D)       (None, 32, 32, 512)       1180160   \n",
      "                                                                 \n",
      " block4_conv2 (Conv2D)       (None, 32, 32, 512)       2359808   \n",
      "                                                                 \n",
      " block4_conv3 (Conv2D)       (None, 32, 32, 512)       2359808   \n",
      "                                                                 \n",
      " block4_pool (MaxPooling2D)  (None, 16, 16, 512)       0         \n",
      "                                                                 \n",
      " block5_conv1 (Conv2D)       (None, 16, 16, 512)       2359808   \n",
      "                                                                 \n",
      " block5_conv2 (Conv2D)       (None, 16, 16, 512)       2359808   \n",
      "                                                                 \n",
      " block5_conv3 (Conv2D)       (None, 16, 16, 512)       2359808   \n",
      "                                                                 \n",
      " block5_pool (MaxPooling2D)  (None, 8, 8, 512)         0         \n",
      "                                                                 \n",
      "=================================================================\n",
      "Total params: 14,714,688\n",
      "Trainable params: 14,714,688\n",
      "Non-trainable params: 0\n",
      "_________________________________________________________________\n"
     ]
    }
   ],
   "source": [
    "base_model.summary()"
   ]
  },
  {
   "cell_type": "code",
   "execution_count": 52,
   "metadata": {
    "id": "Sp5dTO620fEn"
   },
   "outputs": [],
   "source": [
    "for layer in base_model.layers:\n",
    "    layer.trainable = False"
   ]
  },
  {
   "cell_type": "code",
   "execution_count": 53,
   "metadata": {
    "id": "Iq8wdzK_z7Ba"
   },
   "outputs": [],
   "source": [
    "x = layers.Flatten()(base_model.output)\n",
    "\n",
    "x = layers.Dense(128, activation='relu')(x)\n",
    "\n",
    "x = layers.Dropout(0.5)(x)\n",
    "\n",
    "x = layers.Dense(num_classes,activation=\"softmax\")(x)\n",
    "\n",
    "model = tf.keras.models.Model(base_model.input, x)\n",
    "\n",
    "# model.compile(optimizer = tf.keras.optimizers.RMSprop(lr=0.0001), loss = 'binary_crossentropy',metrics = ['acc'])\n",
    "model.compile(optimizer='adam',\n",
    "              loss=tf.keras.losses.SparseCategoricalCrossentropy(),\n",
    "              metrics=['accuracy'])"
   ]
  },
  {
   "cell_type": "code",
   "execution_count": 54,
   "metadata": {
    "colab": {
     "base_uri": "https://localhost:8080/"
    },
    "id": "7balXneMz7Pd",
    "outputId": "c89406e1-e674-416a-e01b-69dd4b8050d8"
   },
   "outputs": [
    {
     "name": "stdout",
     "output_type": "stream",
     "text": [
      "Epoch 1/100\n",
      "4/4 [==============================] - 18s 3s/step - loss: 19.2579 - accuracy: 0.5041 - val_loss: 4.1076 - val_accuracy: 0.8654\n",
      "Epoch 2/100\n",
      "4/4 [==============================] - 2s 404ms/step - loss: 7.7868 - accuracy: 0.8374 - val_loss: 2.5053 - val_accuracy: 0.9423\n",
      "Epoch 3/100\n",
      "4/4 [==============================] - 2s 414ms/step - loss: 2.5015 - accuracy: 0.9350 - val_loss: 3.3638 - val_accuracy: 0.9231\n",
      "Epoch 4/100\n",
      "4/4 [==============================] - 2s 342ms/step - loss: 3.4574 - accuracy: 0.9431 - val_loss: 4.2171 - val_accuracy: 0.9423\n",
      "Epoch 5/100\n",
      "4/4 [==============================] - 2s 337ms/step - loss: 1.3829 - accuracy: 0.9675 - val_loss: 6.0582 - val_accuracy: 0.9423\n",
      "Epoch 6/100\n",
      "4/4 [==============================] - 2s 346ms/step - loss: 2.2899 - accuracy: 0.9512 - val_loss: 6.8740 - val_accuracy: 0.9423\n",
      "Epoch 7/100\n",
      "4/4 [==============================] - 2s 328ms/step - loss: 1.2433 - accuracy: 0.9756 - val_loss: 7.2056 - val_accuracy: 0.9423\n",
      "Epoch 8/100\n",
      "4/4 [==============================] - 2s 334ms/step - loss: 1.6562 - accuracy: 0.9675 - val_loss: 7.4651 - val_accuracy: 0.9423\n",
      "Epoch 9/100\n",
      "4/4 [==============================] - 2s 332ms/step - loss: 0.2993 - accuracy: 0.9837 - val_loss: 7.7442 - val_accuracy: 0.9423\n",
      "Epoch 10/100\n",
      "4/4 [==============================] - 2s 396ms/step - loss: 0.0000e+00 - accuracy: 1.0000 - val_loss: 7.9501 - val_accuracy: 0.9423\n",
      "Epoch 11/100\n",
      "4/4 [==============================] - 2s 400ms/step - loss: 8.8191e-07 - accuracy: 1.0000 - val_loss: 8.0866 - val_accuracy: 0.9423\n",
      "Epoch 12/100\n",
      "4/4 [==============================] - 2s 335ms/step - loss: 0.3837 - accuracy: 0.9919 - val_loss: 8.0728 - val_accuracy: 0.9423\n",
      "Epoch 13/100\n",
      "4/4 [==============================] - 2s 331ms/step - loss: 1.6853 - accuracy: 0.9837 - val_loss: 7.5073 - val_accuracy: 0.9423\n",
      "Epoch 14/100\n",
      "4/4 [==============================] - 2s 334ms/step - loss: 0.0535 - accuracy: 0.9919 - val_loss: 7.1781 - val_accuracy: 0.9423\n",
      "Epoch 15/100\n",
      "4/4 [==============================] - 2s 326ms/step - loss: 1.1685 - accuracy: 0.9675 - val_loss: 6.4202 - val_accuracy: 0.9423\n",
      "Epoch 16/100\n",
      "4/4 [==============================] - 2s 326ms/step - loss: 0.1171 - accuracy: 0.9837 - val_loss: 5.3931 - val_accuracy: 0.9423\n",
      "Epoch 17/100\n",
      "4/4 [==============================] - 2s 583ms/step - loss: 0.0940 - accuracy: 0.9919 - val_loss: 4.5996 - val_accuracy: 0.9423\n",
      "Epoch 18/100\n",
      "4/4 [==============================] - 2s 381ms/step - loss: 2.5974e-07 - accuracy: 1.0000 - val_loss: 4.1037 - val_accuracy: 0.9423\n",
      "Epoch 19/100\n",
      "4/4 [==============================] - 2s 325ms/step - loss: 0.0000e+00 - accuracy: 1.0000 - val_loss: 3.9289 - val_accuracy: 0.9423\n",
      "Epoch 20/100\n",
      "4/4 [==============================] - 2s 333ms/step - loss: 0.9079 - accuracy: 0.9837 - val_loss: 3.7381 - val_accuracy: 0.9423\n",
      "Epoch 21/100\n",
      "4/4 [==============================] - 2s 333ms/step - loss: 0.5075 - accuracy: 0.9919 - val_loss: 3.5794 - val_accuracy: 0.9423\n",
      "Epoch 22/100\n",
      "4/4 [==============================] - 2s 338ms/step - loss: 0.0138 - accuracy: 0.9919 - val_loss: 3.6247 - val_accuracy: 0.9423\n",
      "Epoch 23/100\n",
      "4/4 [==============================] - 2s 583ms/step - loss: 0.0000e+00 - accuracy: 1.0000 - val_loss: 3.6943 - val_accuracy: 0.9423\n",
      "Epoch 24/100\n",
      "4/4 [==============================] - 2s 323ms/step - loss: 0.0000e+00 - accuracy: 1.0000 - val_loss: 3.7318 - val_accuracy: 0.9423\n",
      "Epoch 25/100\n",
      "4/4 [==============================] - 2s 323ms/step - loss: 0.0000e+00 - accuracy: 1.0000 - val_loss: 3.7487 - val_accuracy: 0.9423\n",
      "Epoch 26/100\n",
      "4/4 [==============================] - 2s 328ms/step - loss: 1.2958 - accuracy: 0.9675 - val_loss: 3.7176 - val_accuracy: 0.9423\n",
      "Epoch 27/100\n",
      "4/4 [==============================] - 2s 330ms/step - loss: 0.0000e+00 - accuracy: 1.0000 - val_loss: 4.2490 - val_accuracy: 0.9423\n",
      "Epoch 28/100\n",
      "4/4 [==============================] - 2s 332ms/step - loss: 2.2177 - accuracy: 0.9837 - val_loss: 4.7534 - val_accuracy: 0.9423\n",
      "Epoch 29/100\n",
      "4/4 [==============================] - 2s 335ms/step - loss: 0.0000e+00 - accuracy: 1.0000 - val_loss: 4.8493 - val_accuracy: 0.9423\n",
      "Epoch 30/100\n",
      "4/4 [==============================] - 2s 369ms/step - loss: 0.0629 - accuracy: 0.9919 - val_loss: 5.3829 - val_accuracy: 0.9423\n",
      "Epoch 31/100\n",
      "4/4 [==============================] - 3s 590ms/step - loss: 0.0171 - accuracy: 0.9919 - val_loss: 5.8958 - val_accuracy: 0.9423\n",
      "Epoch 32/100\n",
      "4/4 [==============================] - 2s 334ms/step - loss: 0.5921 - accuracy: 0.9919 - val_loss: 6.2873 - val_accuracy: 0.9423\n",
      "Epoch 33/100\n",
      "4/4 [==============================] - 2s 330ms/step - loss: 0.0000e+00 - accuracy: 1.0000 - val_loss: 6.7362 - val_accuracy: 0.9423\n",
      "Epoch 34/100\n",
      "4/4 [==============================] - 2s 332ms/step - loss: 0.0000e+00 - accuracy: 1.0000 - val_loss: 7.0361 - val_accuracy: 0.9423\n",
      "Epoch 35/100\n",
      "4/4 [==============================] - 2s 343ms/step - loss: 0.0703 - accuracy: 0.9919 - val_loss: 7.2011 - val_accuracy: 0.9423\n",
      "Epoch 36/100\n",
      "4/4 [==============================] - 2s 340ms/step - loss: 2.4296 - accuracy: 0.9756 - val_loss: 6.5694 - val_accuracy: 0.9423\n",
      "Epoch 37/100\n",
      "4/4 [==============================] - 2s 345ms/step - loss: 0.0000e+00 - accuracy: 1.0000 - val_loss: 5.8437 - val_accuracy: 0.9423\n",
      "Epoch 38/100\n",
      "4/4 [==============================] - 2s 590ms/step - loss: 0.0254 - accuracy: 0.9919 - val_loss: 5.2979 - val_accuracy: 0.9423\n",
      "Epoch 39/100\n",
      "4/4 [==============================] - 2s 335ms/step - loss: 0.0000e+00 - accuracy: 1.0000 - val_loss: 4.7512 - val_accuracy: 0.9423\n",
      "Epoch 40/100\n",
      "4/4 [==============================] - 2s 344ms/step - loss: 0.2378 - accuracy: 0.9919 - val_loss: 4.4130 - val_accuracy: 0.9423\n",
      "Epoch 41/100\n",
      "4/4 [==============================] - 2s 330ms/step - loss: 0.0058 - accuracy: 0.9919 - val_loss: 4.3534 - val_accuracy: 0.9423\n",
      "Epoch 42/100\n",
      "4/4 [==============================] - 2s 337ms/step - loss: 0.2482 - accuracy: 0.9837 - val_loss: 3.9671 - val_accuracy: 0.9231\n",
      "Epoch 43/100\n",
      "4/4 [==============================] - 2s 335ms/step - loss: 0.0022 - accuracy: 1.0000 - val_loss: 3.6600 - val_accuracy: 0.9231\n",
      "Epoch 44/100\n",
      "4/4 [==============================] - 2s 392ms/step - loss: 0.0000e+00 - accuracy: 1.0000 - val_loss: 3.5215 - val_accuracy: 0.9231\n",
      "Epoch 45/100\n",
      "4/4 [==============================] - 3s 592ms/step - loss: 0.0000e+00 - accuracy: 1.0000 - val_loss: 3.5153 - val_accuracy: 0.9231\n",
      "Epoch 46/100\n",
      "4/4 [==============================] - 2s 343ms/step - loss: 0.0679 - accuracy: 0.9919 - val_loss: 3.5202 - val_accuracy: 0.9231\n",
      "Epoch 47/100\n",
      "4/4 [==============================] - 2s 588ms/step - loss: 0.0000e+00 - accuracy: 1.0000 - val_loss: 3.5740 - val_accuracy: 0.9231\n",
      "Epoch 48/100\n",
      "4/4 [==============================] - 2s 329ms/step - loss: 0.8696 - accuracy: 0.9919 - val_loss: 3.4218 - val_accuracy: 0.9231\n",
      "Epoch 49/100\n",
      "4/4 [==============================] - 2s 389ms/step - loss: 0.0000e+00 - accuracy: 1.0000 - val_loss: 2.9470 - val_accuracy: 0.9231\n",
      "Epoch 50/100\n",
      "4/4 [==============================] - 2s 324ms/step - loss: 0.0000e+00 - accuracy: 1.0000 - val_loss: 2.6959 - val_accuracy: 0.9231\n",
      "Epoch 51/100\n",
      "4/4 [==============================] - 2s 332ms/step - loss: 0.8135 - accuracy: 0.9837 - val_loss: 2.4406 - val_accuracy: 0.9423\n",
      "Epoch 52/100\n",
      "4/4 [==============================] - 2s 342ms/step - loss: 0.1335 - accuracy: 0.9919 - val_loss: 2.8268 - val_accuracy: 0.9423\n",
      "Epoch 53/100\n",
      "4/4 [==============================] - 2s 337ms/step - loss: 0.3374 - accuracy: 0.9919 - val_loss: 2.8560 - val_accuracy: 0.9615\n",
      "Epoch 54/100\n",
      "4/4 [==============================] - 2s 337ms/step - loss: 2.7926 - accuracy: 0.9837 - val_loss: 3.3427 - val_accuracy: 0.9423\n",
      "Epoch 55/100\n",
      "4/4 [==============================] - 2s 583ms/step - loss: 1.5128e-06 - accuracy: 1.0000 - val_loss: 4.4923 - val_accuracy: 0.9423\n",
      "Epoch 56/100\n",
      "4/4 [==============================] - 2s 378ms/step - loss: 0.2010 - accuracy: 0.9919 - val_loss: 5.3128 - val_accuracy: 0.9423\n",
      "Epoch 57/100\n",
      "4/4 [==============================] - 2s 335ms/step - loss: 0.0610 - accuracy: 0.9919 - val_loss: 5.6996 - val_accuracy: 0.9423\n",
      "Epoch 58/100\n",
      "4/4 [==============================] - 2s 326ms/step - loss: 0.6097 - accuracy: 0.9919 - val_loss: 6.4226 - val_accuracy: 0.9423\n",
      "Epoch 59/100\n",
      "4/4 [==============================] - 2s 335ms/step - loss: 0.4783 - accuracy: 0.9919 - val_loss: 7.2337 - val_accuracy: 0.9423\n",
      "Epoch 60/100\n",
      "4/4 [==============================] - 2s 334ms/step - loss: 0.0000e+00 - accuracy: 1.0000 - val_loss: 7.8602 - val_accuracy: 0.9423\n",
      "Epoch 61/100\n",
      "4/4 [==============================] - 2s 592ms/step - loss: 1.3247 - accuracy: 0.9919 - val_loss: 8.6368 - val_accuracy: 0.9423\n",
      "Epoch 62/100\n",
      "4/4 [==============================] - 2s 339ms/step - loss: 0.0000e+00 - accuracy: 1.0000 - val_loss: 9.1983 - val_accuracy: 0.9423\n",
      "Epoch 63/100\n",
      "4/4 [==============================] - 2s 334ms/step - loss: 0.0000e+00 - accuracy: 1.0000 - val_loss: 9.6054 - val_accuracy: 0.9423\n",
      "Epoch 64/100\n",
      "4/4 [==============================] - 2s 330ms/step - loss: 0.0000e+00 - accuracy: 1.0000 - val_loss: 9.9378 - val_accuracy: 0.9423\n",
      "Epoch 65/100\n",
      "4/4 [==============================] - 2s 336ms/step - loss: 0.2167 - accuracy: 0.9919 - val_loss: 10.1379 - val_accuracy: 0.9423\n",
      "Epoch 66/100\n",
      "4/4 [==============================] - 2s 328ms/step - loss: 9.6918e-10 - accuracy: 1.0000 - val_loss: 10.3088 - val_accuracy: 0.9423\n",
      "Epoch 67/100\n",
      "4/4 [==============================] - 2s 336ms/step - loss: 0.0000e+00 - accuracy: 1.0000 - val_loss: 10.4197 - val_accuracy: 0.9423\n",
      "Epoch 68/100\n",
      "4/4 [==============================] - 2s 588ms/step - loss: 0.9075 - accuracy: 0.9837 - val_loss: 10.1795 - val_accuracy: 0.9423\n",
      "Epoch 69/100\n",
      "4/4 [==============================] - 2s 342ms/step - loss: 0.0000e+00 - accuracy: 1.0000 - val_loss: 10.2518 - val_accuracy: 0.9423\n",
      "Epoch 70/100\n",
      "4/4 [==============================] - 2s 342ms/step - loss: 0.1133 - accuracy: 0.9919 - val_loss: 10.0857 - val_accuracy: 0.9423\n",
      "Epoch 71/100\n",
      "4/4 [==============================] - 2s 336ms/step - loss: 0.0218 - accuracy: 0.9919 - val_loss: 9.7406 - val_accuracy: 0.9423\n",
      "Epoch 72/100\n",
      "4/4 [==============================] - 2s 331ms/step - loss: 0.1566 - accuracy: 0.9919 - val_loss: 9.1337 - val_accuracy: 0.9423\n",
      "Epoch 73/100\n",
      "4/4 [==============================] - 2s 332ms/step - loss: 0.0000e+00 - accuracy: 1.0000 - val_loss: 8.5752 - val_accuracy: 0.9423\n",
      "Epoch 74/100\n",
      "4/4 [==============================] - 2s 330ms/step - loss: 2.3260e-07 - accuracy: 1.0000 - val_loss: 8.1642 - val_accuracy: 0.9423\n",
      "Epoch 75/100\n",
      "4/4 [==============================] - 2s 589ms/step - loss: 0.8038 - accuracy: 0.9837 - val_loss: 8.4367 - val_accuracy: 0.9423\n",
      "Epoch 76/100\n",
      "4/4 [==============================] - 2s 333ms/step - loss: 0.3877 - accuracy: 0.9919 - val_loss: 9.0381 - val_accuracy: 0.9423\n",
      "Epoch 77/100\n",
      "4/4 [==============================] - 2s 335ms/step - loss: 0.0932 - accuracy: 0.9919 - val_loss: 9.9560 - val_accuracy: 0.9423\n",
      "Epoch 78/100\n",
      "4/4 [==============================] - 2s 334ms/step - loss: 1.9420e-06 - accuracy: 1.0000 - val_loss: 10.6804 - val_accuracy: 0.9423\n",
      "Epoch 79/100\n",
      "4/4 [==============================] - 2s 341ms/step - loss: 0.0000e+00 - accuracy: 1.0000 - val_loss: 11.1593 - val_accuracy: 0.9423\n",
      "Epoch 80/100\n",
      "4/4 [==============================] - 2s 328ms/step - loss: 0.0000e+00 - accuracy: 1.0000 - val_loss: 11.4484 - val_accuracy: 0.9423\n",
      "Epoch 81/100\n",
      "4/4 [==============================] - 3s 587ms/step - loss: 0.4146 - accuracy: 0.9919 - val_loss: 11.5335 - val_accuracy: 0.9423\n",
      "Epoch 82/100\n",
      "4/4 [==============================] - 2s 327ms/step - loss: 0.6334 - accuracy: 0.9837 - val_loss: 11.3500 - val_accuracy: 0.9423\n",
      "Epoch 83/100\n",
      "4/4 [==============================] - 2s 331ms/step - loss: 9.6918e-10 - accuracy: 1.0000 - val_loss: 11.2100 - val_accuracy: 0.9423\n",
      "Epoch 84/100\n",
      "4/4 [==============================] - 2s 328ms/step - loss: 0.0000e+00 - accuracy: 1.0000 - val_loss: 11.1402 - val_accuracy: 0.9423\n",
      "Epoch 85/100\n",
      "4/4 [==============================] - 2s 335ms/step - loss: 0.0000e+00 - accuracy: 1.0000 - val_loss: 11.0803 - val_accuracy: 0.9423\n",
      "Epoch 86/100\n",
      "4/4 [==============================] - 2s 339ms/step - loss: 1.2650 - accuracy: 0.9919 - val_loss: 11.0600 - val_accuracy: 0.9423\n",
      "Epoch 87/100\n",
      "4/4 [==============================] - 2s 331ms/step - loss: 1.5361 - accuracy: 0.9756 - val_loss: 9.9174 - val_accuracy: 0.9423\n",
      "Epoch 88/100\n",
      "4/4 [==============================] - 2s 397ms/step - loss: 0.0000e+00 - accuracy: 1.0000 - val_loss: 7.6683 - val_accuracy: 0.9423\n",
      "Epoch 89/100\n",
      "4/4 [==============================] - 2s 363ms/step - loss: 0.0021 - accuracy: 1.0000 - val_loss: 6.1641 - val_accuracy: 0.9423\n",
      "Epoch 90/100\n",
      "4/4 [==============================] - 2s 327ms/step - loss: 3.9639e-07 - accuracy: 1.0000 - val_loss: 5.1227 - val_accuracy: 0.9423\n",
      "Epoch 91/100\n",
      "4/4 [==============================] - 2s 338ms/step - loss: 0.7731 - accuracy: 0.9919 - val_loss: 4.7140 - val_accuracy: 0.9423\n",
      "Epoch 92/100\n",
      "4/4 [==============================] - 2s 333ms/step - loss: 5.4367e-05 - accuracy: 1.0000 - val_loss: 4.5048 - val_accuracy: 0.9423\n",
      "Epoch 93/100\n",
      "4/4 [==============================] - 2s 336ms/step - loss: 0.0000e+00 - accuracy: 1.0000 - val_loss: 4.3928 - val_accuracy: 0.9423\n",
      "Epoch 94/100\n",
      "4/4 [==============================] - 2s 335ms/step - loss: 0.0000e+00 - accuracy: 1.0000 - val_loss: 4.3263 - val_accuracy: 0.9423\n",
      "Epoch 95/100\n",
      "4/4 [==============================] - 2s 333ms/step - loss: 0.2801 - accuracy: 0.9919 - val_loss: 4.0567 - val_accuracy: 0.9231\n",
      "Epoch 96/100\n",
      "4/4 [==============================] - 3s 589ms/step - loss: 0.0032 - accuracy: 1.0000 - val_loss: 4.0988 - val_accuracy: 0.9231\n",
      "Epoch 97/100\n",
      "4/4 [==============================] - 2s 335ms/step - loss: 0.4775 - accuracy: 0.9919 - val_loss: 4.1967 - val_accuracy: 0.9231\n",
      "Epoch 98/100\n",
      "4/4 [==============================] - 2s 328ms/step - loss: 0.0505 - accuracy: 0.9919 - val_loss: 4.4446 - val_accuracy: 0.9231\n",
      "Epoch 99/100\n",
      "4/4 [==============================] - 2s 330ms/step - loss: 0.9470 - accuracy: 0.9919 - val_loss: 5.4016 - val_accuracy: 0.9231\n",
      "Epoch 100/100\n",
      "4/4 [==============================] - 2s 328ms/step - loss: 1.0535 - accuracy: 0.9919 - val_loss: 5.8460 - val_accuracy: 0.9231\n"
     ]
    }
   ],
   "source": [
    "epochs=100\n",
    "history = model.fit(\n",
    "  train_ds,\n",
    "  validation_data = valid_ds,\n",
    "  epochs=epochs\n",
    ")"
   ]
  },
  {
   "cell_type": "code",
   "execution_count": 56,
   "metadata": {
    "id": "VewUSBQmz7ZA"
   },
   "outputs": [],
   "source": [
    "model.save(\"AcneModel.h5\")"
   ]
  },
  {
   "cell_type": "code",
   "execution_count": null,
   "metadata": {
    "colab": {
     "base_uri": "https://localhost:8080/",
     "height": 945
    },
    "id": "IcNKxuniV4cH",
    "outputId": "af32bed3-2c96-4ebd-f340-5b14d7a34d11"
   },
   "outputs": [
    {
     "name": "stdout",
     "output_type": "stream",
     "text": [
      "dict_keys(['loss', 'accuracy', 'val_loss', 'val_accuracy'])\n"
     ]
    },
    {
     "data": {
      "image/png": "[encoded data removed]",
      "text/plain": [
       "<Figure size 640x480 with 1 Axes>"
      ]
     },
     "metadata": {},
     "output_type": "display_data"
    },
    {
     "data": {
      "image/png": "[encoded data removed]",
      "text/plain": [
       "<Figure size 640x480 with 1 Axes>"
      ]
     },
     "metadata": {},
     "output_type": "display_data"
    }
   ],
   "source": [
    "print(history.history.keys())\n",
    "# summarize history for accuracy\n",
    "plt.plot(history.history['accuracy'])\n",
    "plt.plot(history.history['val_accuracy'])\n",
    "plt.title('model accuracy')\n",
    "plt.ylabel('accuracy')\n",
    "plt.xlabel('epoch')\n",
    "plt.legend(['train', 'test'], loc='upper left')\n",
    "plt.show()\n",
    "# summarize history for loss\n",
    "plt.plot(history.history['loss'])\n",
    "plt.plot(history.history['val_loss'])\n",
    "plt.title('model loss')\n",
    "plt.ylabel('loss')ddx\n",
    "plt.xlabel('epoch')\n",
    "plt.legend(['train', 'test'], loc='upper left')\n",
    "plt.show()"
   ]
  },
  {
   "cell_type": "code",
   "execution_count": null,
   "metadata": {
    "id": "tMdrPhvwCB7x"
   },
   "outputs": [],
   "source": [
    "from PIL import Image\n",
    "image = Image.open(\"/content/Data/Severe/levle2_100.jpg\")\n",
    "image = image.resize((256,256))\n",
    "# image = np.array(image)"
   ]
  },
  {
   "cell_type": "code",
   "execution_count": null,
   "metadata": {
    "id": "YeAPLe9QV3YK"
   },
   "outputs": [],
   "source": []
  },
  {
   "cell_type": "code",
   "execution_count": null,
   "metadata": {
    "id": "qkxO856CV3wC"
   },
   "outputs": [],
   "source": []
  },
  {
   "cell_type": "code",
   "execution_count": null,
   "metadata": {
    "id": "P7EJ_QJ0-9n4"
   },
   "outputs": [],
   "source": []
  }
 ],
 "metadata": {
  "accelerator": "GPU",
  "colab": {
   "provenance": []
  },
  "gpuClass": "standard",
  "kernelspec": {
   "display_name": "Python 3 (ipykernel)",
   "language": "python",
   "name": "python3"
  },
  "language_info": {
   "codemirror_mode": {
    "name": "ipython",
    "version": 3
   },
   "file_extension": ".py",
   "mimetype": "text/x-python",
   "name": "python",
   "nbconvert_exporter": "python",
   "pygments_lexer": "ipython3",
   "version": "3.10.6"
  }
 },
 "nbformat": 4,
 "nbformat_minor": 1
}
